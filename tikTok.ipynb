{
 "cells": [
  {
   "cell_type": "code",
   "execution_count": 1,
   "metadata": {},
   "outputs": [
    {
     "name": "stderr",
     "output_type": "stream",
     "text": [
      "/var/folders/sc/xrrb5fp15kzgrgfsy_b4ggym0000gn/T/ipykernel_23808/2294793829.py:4: DtypeWarning: Columns (11) have mixed types. Specify dtype option on import or set low_memory=False.\n",
      "  df = pd.read_csv('final_data.csv')\n"
     ]
    },
    {
     "data": {
      "text/html": [
       "<div>\n",
       "<style scoped>\n",
       "    .dataframe tbody tr th:only-of-type {\n",
       "        vertical-align: middle;\n",
       "    }\n",
       "\n",
       "    .dataframe tbody tr th {\n",
       "        vertical-align: top;\n",
       "    }\n",
       "\n",
       "    .dataframe thead th {\n",
       "        text-align: right;\n",
       "    }\n",
       "</style>\n",
       "<table border=\"1\" class=\"dataframe\">\n",
       "  <thead>\n",
       "    <tr style=\"text-align: right;\">\n",
       "      <th></th>\n",
       "      <th>comment_id</th>\n",
       "      <th>text</th>\n",
       "      <th>video_id</th>\n",
       "      <th>create_time</th>\n",
       "      <th>like_count</th>\n",
       "      <th>status</th>\n",
       "      <th>author.unique_id</th>\n",
       "      <th>author.nickname</th>\n",
       "      <th>author.is_private</th>\n",
       "      <th>author.language</th>\n",
       "      <th>author.signature</th>\n",
       "      <th>author.custom_verify</th>\n",
       "      <th>author.uid</th>\n",
       "      <th>author.sec_uid</th>\n",
       "      <th>author.avatar_thumb</th>\n",
       "      <th>author.region</th>\n",
       "      <th>author.ins_id</th>\n",
       "      <th>author.youtube_channel_title</th>\n",
       "      <th>author.youtube_channel_id</th>\n",
       "      <th>author.twitter_id</th>\n",
       "    </tr>\n",
       "  </thead>\n",
       "  <tbody>\n",
       "    <tr>\n",
       "      <th>0</th>\n",
       "      <td>6816879848683438085</td>\n",
       "      <td>But are you giving him a Tesla? Because he des...</td>\n",
       "      <td>6816821384652557574</td>\n",
       "      <td>1587178528</td>\n",
       "      <td>161</td>\n",
       "      <td>1</td>\n",
       "      <td>lissettecalv</td>\n",
       "      <td>Lissette | Influencer Coach</td>\n",
       "      <td>False</td>\n",
       "      <td>en</td>\n",
       "      <td>How to BUILD &amp; MONETIZE a digital biz with pur...</td>\n",
       "      <td>Verified account</td>\n",
       "      <td>133202372536832000</td>\n",
       "      <td>MS4wLjABAAAAbX7SywQS04x1ilOoKHrpTZqhQ6lD32nRC6...</td>\n",
       "      <td>https://p77-sign-sg.tiktokcdn.com/musically-ma...</td>\n",
       "      <td>US</td>\n",
       "      <td>lissettecalv</td>\n",
       "      <td>NaN</td>\n",
       "      <td>NaN</td>\n",
       "      <td>NaN</td>\n",
       "    </tr>\n",
       "    <tr>\n",
       "      <th>1</th>\n",
       "      <td>6816846992812015622</td>\n",
       "      <td>David was just hoping for some help 😢</td>\n",
       "      <td>6816821384652557574</td>\n",
       "      <td>1587170875</td>\n",
       "      <td>1165</td>\n",
       "      <td>1</td>\n",
       "      <td>hellomyfriend0_o</td>\n",
       "      <td>Isaac micallef</td>\n",
       "      <td>True</td>\n",
       "      <td>en</td>\n",
       "      <td>In bed watching Tiktok video's 😴</td>\n",
       "      <td>NaN</td>\n",
       "      <td>6744596691107824645</td>\n",
       "      <td>MS4wLjABAAAADslkcxnt1mqt2oQwQEK8d0ybBHPuCO-geV...</td>\n",
       "      <td>https://p77-sign-sg.tiktokcdn.com/musically-ma...</td>\n",
       "      <td>MT</td>\n",
       "      <td>NaN</td>\n",
       "      <td>NaN</td>\n",
       "      <td>NaN</td>\n",
       "      <td>NaN</td>\n",
       "    </tr>\n",
       "    <tr>\n",
       "      <th>2</th>\n",
       "      <td>6816942564911628294</td>\n",
       "      <td>We ain’t forgot that time he tricked us all in...</td>\n",
       "      <td>6816821384652557574</td>\n",
       "      <td>1587193131</td>\n",
       "      <td>249</td>\n",
       "      <td>1</td>\n",
       "      <td>briancarrion_</td>\n",
       "      <td>Briancarrion</td>\n",
       "      <td>False</td>\n",
       "      <td>en</td>\n",
       "      <td>Might make you cringe 🤷🏽‍♂️\\n🇻🇪</td>\n",
       "      <td>Verified account</td>\n",
       "      <td>2165547</td>\n",
       "      <td>MS4wLjABAAAAKH09hef-gLcTyrzYygfGHMazAhFaLMML7-...</td>\n",
       "      <td>https://p16-sign-sg.tiktokcdn.com/musically-ma...</td>\n",
       "      <td>US</td>\n",
       "      <td>brian.carrion_</td>\n",
       "      <td>NaN</td>\n",
       "      <td>NaN</td>\n",
       "      <td>NaN</td>\n",
       "    </tr>\n",
       "    <tr>\n",
       "      <th>3</th>\n",
       "      <td>6816824764519301125</td>\n",
       "      <td>get him a tesla</td>\n",
       "      <td>6816821384652557574</td>\n",
       "      <td>1587165700</td>\n",
       "      <td>4038</td>\n",
       "      <td>1</td>\n",
       "      <td>slumpgodkayy</td>\n",
       "      <td>kaykay the slumpgod</td>\n",
       "      <td>False</td>\n",
       "      <td>en</td>\n",
       "      <td>👻:@ kaykayyishere\\nfollow my instagram💖</td>\n",
       "      <td>NaN</td>\n",
       "      <td>6586423495932313605</td>\n",
       "      <td>MS4wLjABAAAAI1dyIIb3qlBf3LhqS3-OJITdYuc3OcWlsd...</td>\n",
       "      <td>https://p16-sign-sg.tiktokcdn.com/musically-ma...</td>\n",
       "      <td>US</td>\n",
       "      <td>kaylemraley</td>\n",
       "      <td>NaN</td>\n",
       "      <td>NaN</td>\n",
       "      <td>NaN</td>\n",
       "    </tr>\n",
       "    <tr>\n",
       "      <th>4</th>\n",
       "      <td>6816821633249001477</td>\n",
       "      <td>david ur so hung</td>\n",
       "      <td>6816821384652557574</td>\n",
       "      <td>1587164971</td>\n",
       "      <td>100</td>\n",
       "      <td>1</td>\n",
       "      <td>_4den</td>\n",
       "      <td>dad</td>\n",
       "      <td>False</td>\n",
       "      <td>en</td>\n",
       "      <td>x kinda fell off</td>\n",
       "      <td>NaN</td>\n",
       "      <td>6740418744587650054</td>\n",
       "      <td>MS4wLjABAAAAykXQ0pVI4w-y3kI1omvYzOH2xnJN0iP3lf...</td>\n",
       "      <td>https://p77-sign-sg.tiktokcdn.com/tos-maliva-a...</td>\n",
       "      <td>US</td>\n",
       "      <td>_4den</td>\n",
       "      <td>aden burgess</td>\n",
       "      <td>UCe3pSCjGls_hByctWn91rqw</td>\n",
       "      <td>NaN</td>\n",
       "    </tr>\n",
       "  </tbody>\n",
       "</table>\n",
       "</div>"
      ],
      "text/plain": [
       "            comment_id                                               text  \\\n",
       "0  6816879848683438085  But are you giving him a Tesla? Because he des...   \n",
       "1  6816846992812015622              David was just hoping for some help 😢   \n",
       "2  6816942564911628294  We ain’t forgot that time he tricked us all in...   \n",
       "3  6816824764519301125                                    get him a tesla   \n",
       "4  6816821633249001477                                   david ur so hung   \n",
       "\n",
       "              video_id  create_time  like_count  status  author.unique_id  \\\n",
       "0  6816821384652557574   1587178528         161       1      lissettecalv   \n",
       "1  6816821384652557574   1587170875        1165       1  hellomyfriend0_o   \n",
       "2  6816821384652557574   1587193131         249       1     briancarrion_   \n",
       "3  6816821384652557574   1587165700        4038       1      slumpgodkayy   \n",
       "4  6816821384652557574   1587164971         100       1             _4den   \n",
       "\n",
       "               author.nickname  author.is_private author.language  \\\n",
       "0  Lissette | Influencer Coach              False              en   \n",
       "1               Isaac micallef               True              en   \n",
       "2                 Briancarrion              False              en   \n",
       "3          kaykay the slumpgod              False              en   \n",
       "4                          dad              False              en   \n",
       "\n",
       "                                    author.signature author.custom_verify  \\\n",
       "0  How to BUILD & MONETIZE a digital biz with pur...     Verified account   \n",
       "1                   In bed watching Tiktok video's 😴                  NaN   \n",
       "2                    Might make you cringe 🤷🏽‍♂️\\n🇻🇪     Verified account   \n",
       "3            👻:@ kaykayyishere\\nfollow my instagram💖                  NaN   \n",
       "4                                   x kinda fell off                  NaN   \n",
       "\n",
       "            author.uid                                     author.sec_uid  \\\n",
       "0   133202372536832000  MS4wLjABAAAAbX7SywQS04x1ilOoKHrpTZqhQ6lD32nRC6...   \n",
       "1  6744596691107824645  MS4wLjABAAAADslkcxnt1mqt2oQwQEK8d0ybBHPuCO-geV...   \n",
       "2              2165547  MS4wLjABAAAAKH09hef-gLcTyrzYygfGHMazAhFaLMML7-...   \n",
       "3  6586423495932313605  MS4wLjABAAAAI1dyIIb3qlBf3LhqS3-OJITdYuc3OcWlsd...   \n",
       "4  6740418744587650054  MS4wLjABAAAAykXQ0pVI4w-y3kI1omvYzOH2xnJN0iP3lf...   \n",
       "\n",
       "                                 author.avatar_thumb author.region  \\\n",
       "0  https://p77-sign-sg.tiktokcdn.com/musically-ma...            US   \n",
       "1  https://p77-sign-sg.tiktokcdn.com/musically-ma...            MT   \n",
       "2  https://p16-sign-sg.tiktokcdn.com/musically-ma...            US   \n",
       "3  https://p16-sign-sg.tiktokcdn.com/musically-ma...            US   \n",
       "4  https://p77-sign-sg.tiktokcdn.com/tos-maliva-a...            US   \n",
       "\n",
       "    author.ins_id author.youtube_channel_title author.youtube_channel_id  \\\n",
       "0    lissettecalv                          NaN                       NaN   \n",
       "1             NaN                          NaN                       NaN   \n",
       "2  brian.carrion_                          NaN                       NaN   \n",
       "3     kaylemraley                          NaN                       NaN   \n",
       "4           _4den                 aden burgess  UCe3pSCjGls_hByctWn91rqw   \n",
       "\n",
       "   author.twitter_id  \n",
       "0                NaN  \n",
       "1                NaN  \n",
       "2                NaN  \n",
       "3                NaN  \n",
       "4                NaN  "
      ]
     },
     "execution_count": 1,
     "metadata": {},
     "output_type": "execute_result"
    }
   ],
   "source": [
    "import pandas as pd\n",
    "import matplotlib.pyplot as plt\n",
    "\n",
    "df = pd.read_csv('final_data.csv')\n",
    "df.head()"
   ]
  },
  {
   "cell_type": "markdown",
   "metadata": {},
   "source": [
    "## questions to be answered\n",
    "1. what is the most commented on video\n",
    "2. what are the top liked comments"
   ]
  },
  {
   "cell_type": "code",
   "execution_count": 4,
   "metadata": {},
   "outputs": [
    {
     "data": {
      "text/plain": [
       "6872470087446613253    52270\n",
       "6816821384652557574    35314\n",
       "6877998406359371014    31960\n",
       "6869090178212842758    24171\n",
       "6831297085137095942    21395\n",
       "Name: video_id, dtype: int64"
      ]
     },
     "execution_count": 4,
     "metadata": {},
     "output_type": "execute_result"
    }
   ],
   "source": [
    "df['video_id'].value_counts()"
   ]
  },
  {
   "cell_type": "markdown",
   "metadata": {},
   "source": [
    "the most commented on video has over 52k comments"
   ]
  },
  {
   "cell_type": "code",
   "execution_count": 6,
   "metadata": {},
   "outputs": [
    {
     "data": {
      "text/plain": [
       "773983"
      ]
     },
     "execution_count": 6,
     "metadata": {},
     "output_type": "execute_result"
    }
   ],
   "source": [
    "df['like_count'].max()"
   ]
  },
  {
   "cell_type": "markdown",
   "metadata": {},
   "source": [
    "the most liked comment has over 773k likes"
   ]
  },
  {
   "cell_type": "code",
   "execution_count": null,
   "metadata": {},
   "outputs": [],
   "source": []
  }
 ],
 "metadata": {
  "interpreter": {
   "hash": "19fb8cb3030de9e77dd9aa3010ef1ce9a63a6ae1c5fd8aa4e70c627a2f2fc8ee"
  },
  "kernelspec": {
   "display_name": "Python 3.8.5 ('env': venv)",
   "language": "python",
   "name": "python3"
  },
  "language_info": {
   "codemirror_mode": {
    "name": "ipython",
    "version": 3
   },
   "file_extension": ".py",
   "mimetype": "text/x-python",
   "name": "python",
   "nbconvert_exporter": "python",
   "pygments_lexer": "ipython3",
   "version": "3.8.5"
  },
  "orig_nbformat": 4
 },
 "nbformat": 4,
 "nbformat_minor": 2
}
